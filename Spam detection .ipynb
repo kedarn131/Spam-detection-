{
 "cells": [
  {
   "cell_type": "code",
   "execution_count": 2,
   "id": "9ca02b4a",
   "metadata": {},
   "outputs": [],
   "source": [
    "import pandas as pd "
   ]
  },
  {
   "cell_type": "code",
   "execution_count": 3,
   "id": "65b32ea9",
   "metadata": {},
   "outputs": [
    {
     "data": {
      "text/html": [
       "<div>\n",
       "<style scoped>\n",
       "    .dataframe tbody tr th:only-of-type {\n",
       "        vertical-align: middle;\n",
       "    }\n",
       "\n",
       "    .dataframe tbody tr th {\n",
       "        vertical-align: top;\n",
       "    }\n",
       "\n",
       "    .dataframe thead th {\n",
       "        text-align: right;\n",
       "    }\n",
       "</style>\n",
       "<table border=\"1\" class=\"dataframe\">\n",
       "  <thead>\n",
       "    <tr style=\"text-align: right;\">\n",
       "      <th></th>\n",
       "      <th>Category</th>\n",
       "      <th>Message</th>\n",
       "    </tr>\n",
       "  </thead>\n",
       "  <tbody>\n",
       "    <tr>\n",
       "      <th>0</th>\n",
       "      <td>ham</td>\n",
       "      <td>Go until jurong point, crazy.. Available only ...</td>\n",
       "    </tr>\n",
       "    <tr>\n",
       "      <th>1</th>\n",
       "      <td>ham</td>\n",
       "      <td>Ok lar... Joking wif u oni...</td>\n",
       "    </tr>\n",
       "    <tr>\n",
       "      <th>2</th>\n",
       "      <td>spam</td>\n",
       "      <td>Free entry in 2 a wkly comp to win FA Cup fina...</td>\n",
       "    </tr>\n",
       "    <tr>\n",
       "      <th>3</th>\n",
       "      <td>ham</td>\n",
       "      <td>U dun say so early hor... U c already then say...</td>\n",
       "    </tr>\n",
       "    <tr>\n",
       "      <th>4</th>\n",
       "      <td>ham</td>\n",
       "      <td>Nah I don't think he goes to usf, he lives aro...</td>\n",
       "    </tr>\n",
       "    <tr>\n",
       "      <th>...</th>\n",
       "      <td>...</td>\n",
       "      <td>...</td>\n",
       "    </tr>\n",
       "    <tr>\n",
       "      <th>5567</th>\n",
       "      <td>spam</td>\n",
       "      <td>This is the 2nd time we have tried 2 contact u...</td>\n",
       "    </tr>\n",
       "    <tr>\n",
       "      <th>5568</th>\n",
       "      <td>ham</td>\n",
       "      <td>Will ü b going to esplanade fr home?</td>\n",
       "    </tr>\n",
       "    <tr>\n",
       "      <th>5569</th>\n",
       "      <td>ham</td>\n",
       "      <td>Pity, * was in mood for that. So...any other s...</td>\n",
       "    </tr>\n",
       "    <tr>\n",
       "      <th>5570</th>\n",
       "      <td>ham</td>\n",
       "      <td>The guy did some bitching but I acted like i'd...</td>\n",
       "    </tr>\n",
       "    <tr>\n",
       "      <th>5571</th>\n",
       "      <td>ham</td>\n",
       "      <td>Rofl. Its true to its name</td>\n",
       "    </tr>\n",
       "  </tbody>\n",
       "</table>\n",
       "<p>5572 rows × 2 columns</p>\n",
       "</div>"
      ],
      "text/plain": [
       "     Category                                            Message\n",
       "0         ham  Go until jurong point, crazy.. Available only ...\n",
       "1         ham                      Ok lar... Joking wif u oni...\n",
       "2        spam  Free entry in 2 a wkly comp to win FA Cup fina...\n",
       "3         ham  U dun say so early hor... U c already then say...\n",
       "4         ham  Nah I don't think he goes to usf, he lives aro...\n",
       "...       ...                                                ...\n",
       "5567     spam  This is the 2nd time we have tried 2 contact u...\n",
       "5568      ham               Will ü b going to esplanade fr home?\n",
       "5569      ham  Pity, * was in mood for that. So...any other s...\n",
       "5570      ham  The guy did some bitching but I acted like i'd...\n",
       "5571      ham                         Rofl. Its true to its name\n",
       "\n",
       "[5572 rows x 2 columns]"
      ]
     },
     "execution_count": 3,
     "metadata": {},
     "output_type": "execute_result"
    }
   ],
   "source": [
    "df = pd.read_csv('SPAM text message 20170820 - Data.csv')\n",
    "df"
   ]
  },
  {
   "cell_type": "markdown",
   "id": "e93eaf7c",
   "metadata": {},
   "source": [
    "Putting in an extra  column which will give each categories a number "
   ]
  },
  {
   "cell_type": "code",
   "execution_count": 4,
   "id": "8b7eec11",
   "metadata": {},
   "outputs": [],
   "source": [
    "df['ids'] = df['Category'].factorize()[0]"
   ]
  },
  {
   "cell_type": "markdown",
   "id": "dd409cd4",
   "metadata": {},
   "source": [
    "Shuffling the database to remove bias and randomize the data and also removing the blank values. "
   ]
  },
  {
   "cell_type": "code",
   "execution_count": 5,
   "id": "7a432e2f",
   "metadata": {},
   "outputs": [],
   "source": [
    "import numpy as np\n",
    "from sklearn.utils import shuffle\n",
    "df = shuffle(df)\n",
    "df = df.replace(r' ', np.nan)\n",
    "df = df.dropna()"
   ]
  },
  {
   "cell_type": "code",
   "execution_count": 6,
   "id": "577d650b",
   "metadata": {},
   "outputs": [],
   "source": [
    "from sklearn.model_selection import train_test_split "
   ]
  },
  {
   "cell_type": "code",
   "execution_count": 7,
   "id": "c04c2d3f",
   "metadata": {},
   "outputs": [],
   "source": [
    "train_df = df.iloc[:4457,:]\n",
    "test_df = df.iloc[4458:5572,:]"
   ]
  },
  {
   "cell_type": "code",
   "execution_count": 8,
   "id": "f2457188",
   "metadata": {},
   "outputs": [],
   "source": [
    "import matplotlib.pyplot as plt\n"
   ]
  },
  {
   "cell_type": "code",
   "execution_count": 9,
   "id": "0f844da2",
   "metadata": {},
   "outputs": [
    {
     "data": {
      "text/html": [
       "<div>\n",
       "<style scoped>\n",
       "    .dataframe tbody tr th:only-of-type {\n",
       "        vertical-align: middle;\n",
       "    }\n",
       "\n",
       "    .dataframe tbody tr th {\n",
       "        vertical-align: top;\n",
       "    }\n",
       "\n",
       "    .dataframe thead th {\n",
       "        text-align: right;\n",
       "    }\n",
       "</style>\n",
       "<table border=\"1\" class=\"dataframe\">\n",
       "  <thead>\n",
       "    <tr style=\"text-align: right;\">\n",
       "      <th></th>\n",
       "      <th>Category</th>\n",
       "      <th>Message</th>\n",
       "      <th>ids</th>\n",
       "    </tr>\n",
       "  </thead>\n",
       "  <tbody>\n",
       "    <tr>\n",
       "      <th>313</th>\n",
       "      <td>ham</td>\n",
       "      <td>He says he'll give me a call when his friend's...</td>\n",
       "      <td>0</td>\n",
       "    </tr>\n",
       "    <tr>\n",
       "      <th>4458</th>\n",
       "      <td>ham</td>\n",
       "      <td>Aight should I just plan to come up later toni...</td>\n",
       "      <td>0</td>\n",
       "    </tr>\n",
       "    <tr>\n",
       "      <th>4794</th>\n",
       "      <td>ham</td>\n",
       "      <td>Or u ask they all if next sat can a not. If al...</td>\n",
       "      <td>0</td>\n",
       "    </tr>\n",
       "    <tr>\n",
       "      <th>796</th>\n",
       "      <td>ham</td>\n",
       "      <td>it's really getting me down just hanging around.</td>\n",
       "      <td>0</td>\n",
       "    </tr>\n",
       "    <tr>\n",
       "      <th>4305</th>\n",
       "      <td>ham</td>\n",
       "      <td>Good good, billy mates all gone. Just been jog...</td>\n",
       "      <td>0</td>\n",
       "    </tr>\n",
       "    <tr>\n",
       "      <th>...</th>\n",
       "      <td>...</td>\n",
       "      <td>...</td>\n",
       "      <td>...</td>\n",
       "    </tr>\n",
       "    <tr>\n",
       "      <th>4963</th>\n",
       "      <td>ham</td>\n",
       "      <td>Yup ok...</td>\n",
       "      <td>0</td>\n",
       "    </tr>\n",
       "    <tr>\n",
       "      <th>1911</th>\n",
       "      <td>ham</td>\n",
       "      <td>Becoz its  &amp;lt;#&amp;gt;  jan whn al the post ofic...</td>\n",
       "      <td>0</td>\n",
       "    </tr>\n",
       "    <tr>\n",
       "      <th>407</th>\n",
       "      <td>ham</td>\n",
       "      <td>All was well until slightly disastrous class t...</td>\n",
       "      <td>0</td>\n",
       "    </tr>\n",
       "    <tr>\n",
       "      <th>5335</th>\n",
       "      <td>ham</td>\n",
       "      <td>No. It's not pride. I'm almost  &amp;lt;#&amp;gt;  yea...</td>\n",
       "      <td>0</td>\n",
       "    </tr>\n",
       "    <tr>\n",
       "      <th>3953</th>\n",
       "      <td>ham</td>\n",
       "      <td>Me hungry buy some food good lei... But mum n ...</td>\n",
       "      <td>0</td>\n",
       "    </tr>\n",
       "  </tbody>\n",
       "</table>\n",
       "<p>1114 rows × 3 columns</p>\n",
       "</div>"
      ],
      "text/plain": [
       "     Category                                            Message  ids\n",
       "313       ham  He says he'll give me a call when his friend's...    0\n",
       "4458      ham  Aight should I just plan to come up later toni...    0\n",
       "4794      ham  Or u ask they all if next sat can a not. If al...    0\n",
       "796       ham   it's really getting me down just hanging around.    0\n",
       "4305      ham  Good good, billy mates all gone. Just been jog...    0\n",
       "...       ...                                                ...  ...\n",
       "4963      ham                                          Yup ok...    0\n",
       "1911      ham  Becoz its  &lt;#&gt;  jan whn al the post ofic...    0\n",
       "407       ham  All was well until slightly disastrous class t...    0\n",
       "5335      ham  No. It's not pride. I'm almost  &lt;#&gt;  yea...    0\n",
       "3953      ham  Me hungry buy some food good lei... But mum n ...    0\n",
       "\n",
       "[1114 rows x 3 columns]"
      ]
     },
     "execution_count": 9,
     "metadata": {},
     "output_type": "execute_result"
    }
   ],
   "source": [
    "test_df"
   ]
  },
  {
   "cell_type": "code",
   "execution_count": 14,
   "id": "2579a017",
   "metadata": {},
   "outputs": [
    {
     "data": {
      "image/png": "[encoded data removed]",
      "text/plain": [
       "<Figure size 432x288 with 1 Axes>"
      ]
     },
     "metadata": {
      "needs_background": "light"
     },
     "output_type": "display_data"
    }
   ],
   "source": [
    "from matplotlib import pyplot as plt\n",
    "fig = plt.figure()\n",
    "ax = fig.add_axes([0,0,1,1])\n",
    "ham, spam = train_df['Category'].value_counts()\n",
    "Mess_type = ['Ham', 'Spam']\n",
    "Mess_count = [ham, spam]\n",
    "ax.bar(Mess_type, Mess_count)\n",
    "plt.show()\n",
    "\n"
   ]
  },
  {
   "cell_type": "markdown",
   "id": "f9bee443",
   "metadata": {},
   "source": [
    "Our training set is imbalanced and hence there are high chances that bias could be induced in our training model. "
   ]
  },
  {
   "cell_type": "markdown",
   "id": "8012ae26",
   "metadata": {},
   "source": [
    "Converting the all the text to lower case "
   ]
  },
  {
   "cell_type": "code",
   "execution_count": 15,
   "id": "4054633d",
   "metadata": {},
   "outputs": [
    {
     "name": "stderr",
     "output_type": "stream",
     "text": [
      "/var/folders/h8/4m_c3pfj1cnd2kpvtxkflc600000gn/T/ipykernel_2690/1326804694.py:1: SettingWithCopyWarning: \n",
      "A value is trying to be set on a copy of a slice from a DataFrame.\n",
      "Try using .loc[row_indexer,col_indexer] = value instead\n",
      "\n",
      "See the caveats in the documentation: https://pandas.pydata.org/pandas-docs/stable/user_guide/indexing.html#returning-a-view-versus-a-copy\n",
      "  train_df['Message'] = train_df['Message'].str.lower()\n"
     ]
    }
   ],
   "source": [
    "train_df['Message'] = train_df['Message'].str.lower()"
   ]
  },
  {
   "cell_type": "code",
   "execution_count": 16,
   "id": "e4bd47f5",
   "metadata": {},
   "outputs": [
    {
     "data": {
      "text/html": [
       "<div>\n",
       "<style scoped>\n",
       "    .dataframe tbody tr th:only-of-type {\n",
       "        vertical-align: middle;\n",
       "    }\n",
       "\n",
       "    .dataframe tbody tr th {\n",
       "        vertical-align: top;\n",
       "    }\n",
       "\n",
       "    .dataframe thead th {\n",
       "        text-align: right;\n",
       "    }\n",
       "</style>\n",
       "<table border=\"1\" class=\"dataframe\">\n",
       "  <thead>\n",
       "    <tr style=\"text-align: right;\">\n",
       "      <th></th>\n",
       "      <th>Category</th>\n",
       "      <th>Message</th>\n",
       "      <th>ids</th>\n",
       "    </tr>\n",
       "  </thead>\n",
       "  <tbody>\n",
       "    <tr>\n",
       "      <th>4232</th>\n",
       "      <td>ham</td>\n",
       "      <td>u really pig leh sleep so much. my dad wake me...</td>\n",
       "      <td>0</td>\n",
       "    </tr>\n",
       "    <tr>\n",
       "      <th>2061</th>\n",
       "      <td>ham</td>\n",
       "      <td>i did. one slice and one breadstick. lol</td>\n",
       "      <td>0</td>\n",
       "    </tr>\n",
       "    <tr>\n",
       "      <th>1744</th>\n",
       "      <td>ham</td>\n",
       "      <td>i love to wine and dine my lady!</td>\n",
       "      <td>0</td>\n",
       "    </tr>\n",
       "    <tr>\n",
       "      <th>3800</th>\n",
       "      <td>ham</td>\n",
       "      <td>actually nvm, got hella cash, we still on for ...</td>\n",
       "      <td>0</td>\n",
       "    </tr>\n",
       "    <tr>\n",
       "      <th>72</th>\n",
       "      <td>ham</td>\n",
       "      <td>hi babe im at home now wanna do something? xx</td>\n",
       "      <td>0</td>\n",
       "    </tr>\n",
       "    <tr>\n",
       "      <th>...</th>\n",
       "      <td>...</td>\n",
       "      <td>...</td>\n",
       "      <td>...</td>\n",
       "    </tr>\n",
       "    <tr>\n",
       "      <th>4021</th>\n",
       "      <td>ham</td>\n",
       "      <td>university of southern california.</td>\n",
       "      <td>0</td>\n",
       "    </tr>\n",
       "    <tr>\n",
       "      <th>4944</th>\n",
       "      <td>ham</td>\n",
       "      <td>check mail.i have mailed varma and kept copy t...</td>\n",
       "      <td>0</td>\n",
       "    </tr>\n",
       "    <tr>\n",
       "      <th>2257</th>\n",
       "      <td>ham</td>\n",
       "      <td>just checked out, heading out to drop off my s...</td>\n",
       "      <td>0</td>\n",
       "    </tr>\n",
       "    <tr>\n",
       "      <th>4699</th>\n",
       "      <td>ham</td>\n",
       "      <td>don no da:)whats you plan?</td>\n",
       "      <td>0</td>\n",
       "    </tr>\n",
       "    <tr>\n",
       "      <th>3988</th>\n",
       "      <td>spam</td>\n",
       "      <td>ringtone club: gr8 new polys direct to your mo...</td>\n",
       "      <td>1</td>\n",
       "    </tr>\n",
       "  </tbody>\n",
       "</table>\n",
       "<p>4457 rows × 3 columns</p>\n",
       "</div>"
      ],
      "text/plain": [
       "     Category                                            Message  ids\n",
       "4232      ham  u really pig leh sleep so much. my dad wake me...    0\n",
       "2061      ham           i did. one slice and one breadstick. lol    0\n",
       "1744      ham                   i love to wine and dine my lady!    0\n",
       "3800      ham  actually nvm, got hella cash, we still on for ...    0\n",
       "72        ham      hi babe im at home now wanna do something? xx    0\n",
       "...       ...                                                ...  ...\n",
       "4021      ham                 university of southern california.    0\n",
       "4944      ham  check mail.i have mailed varma and kept copy t...    0\n",
       "2257      ham  just checked out, heading out to drop off my s...    0\n",
       "4699      ham                         don no da:)whats you plan?    0\n",
       "3988     spam  ringtone club: gr8 new polys direct to your mo...    1\n",
       "\n",
       "[4457 rows x 3 columns]"
      ]
     },
     "execution_count": 16,
     "metadata": {},
     "output_type": "execute_result"
    }
   ],
   "source": [
    "train_df"
   ]
  },
  {
   "cell_type": "markdown",
   "id": "40b0ca50",
   "metadata": {},
   "source": [
    "# Removing stopwords "
   ]
  },
  {
   "cell_type": "code",
   "execution_count": 17,
   "id": "baf1d07a",
   "metadata": {},
   "outputs": [
    {
     "name": "stderr",
     "output_type": "stream",
     "text": [
      "/var/folders/h8/4m_c3pfj1cnd2kpvtxkflc600000gn/T/ipykernel_2690/3706990871.py:4: SettingWithCopyWarning: \n",
      "A value is trying to be set on a copy of a slice from a DataFrame.\n",
      "Try using .loc[row_indexer,col_indexer] = value instead\n",
      "\n",
      "See the caveats in the documentation: https://pandas.pydata.org/pandas-docs/stable/user_guide/indexing.html#returning-a-view-versus-a-copy\n",
      "  train_df['Message'] = train_df['Message'].apply(lambda x: ' '.join([word for word in x.split() if word not in (stop)])) # we will match words in ur text to the ones from the list\n"
     ]
    },
    {
     "data": {
      "text/plain": [
       "4232    u really pig leh sleep much. dad wake 10 smth ...\n",
       "2061                   did. one slice one breadstick. lol\n",
       "1744                                 love wine dine lady!\n",
       "3800    actually nvm, got hella cash, still &lt;#&gt; ...\n",
       "72                    hi babe im home wanna something? xx\n",
       "                              ...                        \n",
       "4021                      university southern california.\n",
       "4944    check mail.i mailed varma kept copy regarding ...\n",
       "2257                      checked out, heading drop stuff\n",
       "4699                                      da:)whats plan?\n",
       "3988    ringtone club: gr8 new polys direct mobile eve...\n",
       "Name: Message, Length: 4457, dtype: object"
      ]
     },
     "execution_count": 17,
     "metadata": {},
     "output_type": "execute_result"
    }
   ],
   "source": [
    "from nltk.corpus import stopwords\n",
    "word = set(stopwords.words('english')) \n",
    "stop = stopwords.words('english') # Basically, we will save all the stop words collection in a list\n",
    "train_df['Message'] = train_df['Message'].apply(lambda x: ' '.join([word for word in x.split() if word not in (stop)])) # we will match words in ur text to the ones from the list\n",
    "train_df['Message']"
   ]
  },
  {
   "cell_type": "markdown",
   "id": "ca98e618",
   "metadata": {},
   "source": [
    "# Stemming "
   ]
  },
  {
   "cell_type": "code",
   "execution_count": 18,
   "id": "6669709c",
   "metadata": {},
   "outputs": [
    {
     "name": "stderr",
     "output_type": "stream",
     "text": [
      "/var/folders/h8/4m_c3pfj1cnd2kpvtxkflc600000gn/T/ipykernel_2690/2964377847.py:3: SettingWithCopyWarning: \n",
      "A value is trying to be set on a copy of a slice from a DataFrame.\n",
      "Try using .loc[row_indexer,col_indexer] = value instead\n",
      "\n",
      "See the caveats in the documentation: https://pandas.pydata.org/pandas-docs/stable/user_guide/indexing.html#returning-a-view-versus-a-copy\n",
      "  train_df['Message'] = train_df['Message'].apply(lambda x: ' '.join([ps.stem(word) for word in x.split()]))\n",
      "/var/folders/h8/4m_c3pfj1cnd2kpvtxkflc600000gn/T/ipykernel_2690/2964377847.py:4: FutureWarning: The default value of regex will change from True to False in a future version.\n",
      "  train_df['Message'] = train_df['Message'].str.replace('[^\\w\\s]','')\n",
      "/var/folders/h8/4m_c3pfj1cnd2kpvtxkflc600000gn/T/ipykernel_2690/2964377847.py:4: SettingWithCopyWarning: \n",
      "A value is trying to be set on a copy of a slice from a DataFrame.\n",
      "Try using .loc[row_indexer,col_indexer] = value instead\n",
      "\n",
      "See the caveats in the documentation: https://pandas.pydata.org/pandas-docs/stable/user_guide/indexing.html#returning-a-view-versus-a-copy\n",
      "  train_df['Message'] = train_df['Message'].str.replace('[^\\w\\s]','')\n"
     ]
    },
    {
     "data": {
      "text/plain": [
       "4232    u realli pig leh sleep much dad wake 10 smth 2...\n",
       "2061                     did one slice one breadstick lol\n",
       "1744                                  love wine dine lady\n",
       "3800             actual nvm got hella cash still ltgt ish\n",
       "72                     hi babe im home wanna something xx\n",
       "                              ...                        \n",
       "4021                          univers southern california\n",
       "4944    check maili mail varma kept copi regard member...\n",
       "2257                            check out head drop stuff\n",
       "4699                                          dawhat plan\n",
       "3988    rington club gr8 new poli direct mobil everi w...\n",
       "Name: Message, Length: 4457, dtype: object"
      ]
     },
     "execution_count": 18,
     "metadata": {},
     "output_type": "execute_result"
    }
   ],
   "source": [
    "from nltk.stem import PorterStemmer\n",
    "ps = PorterStemmer()\n",
    "train_df['Message'] = train_df['Message'].apply(lambda x: ' '.join([ps.stem(word) for word in x.split()]))\n",
    "train_df['Message'] = train_df['Message'].str.replace('[^\\w\\s]','')\n",
    "train_df['Message']"
   ]
  },
  {
   "cell_type": "markdown",
   "id": "1839748f",
   "metadata": {},
   "source": [
    "# Lemmetization "
   ]
  },
  {
   "cell_type": "code",
   "execution_count": 20,
   "id": "f5cd4e6b",
   "metadata": {},
   "outputs": [
    {
     "data": {
      "text/plain": [
       "4232    u realli pig leh sleep much dad wake 10 smth 2...\n",
       "2061                     did one slice one breadstick lol\n",
       "1744                                  love wine dine lady\n",
       "3800             actual nvm got hella cash still ltgt ish\n",
       "72                     hi babe im home wanna something xx\n",
       "                              ...                        \n",
       "4021                          univers southern california\n",
       "4944    check maili mail varma kept copi regard member...\n",
       "2257                            check out head drop stuff\n",
       "4699                                          dawhat plan\n",
       "3988    rington club gr8 new poli direct mobil everi w...\n",
       "Name: Message, Length: 4457, dtype: object"
      ]
     },
     "execution_count": 20,
     "metadata": {},
     "output_type": "execute_result"
    }
   ],
   "source": [
    "from nltk.stem import WordNetLemmatizer\n",
    "import numpy as np \n",
    "wordnet_lemm = WordNetLemmatizer()\n",
    "lemm_words = np.vectorize(wordnet_lemm.lemmatize)\n",
    "lemm_text = ' '.join(lemm_words(train_df['Message']))\n",
    "train_df['Message']"
   ]
  },
  {
   "cell_type": "markdown",
   "id": "193c69f8",
   "metadata": {},
   "source": [
    "# Splitting words "
   ]
  },
  {
   "cell_type": "code",
   "execution_count": 24,
   "id": "06d8f018",
   "metadata": {},
   "outputs": [
    {
     "data": {
      "text/plain": [
       "u                 897\n",
       "call              514\n",
       "2                 376\n",
       "get               368\n",
       "im                361\n",
       "                 ... \n",
       "jamstercouk         1\n",
       "logosmusicnews      1\n",
       "videosounds2        1\n",
       "videosound          1\n",
       "careinsha           1\n",
       "Length: 7954, dtype: int64"
      ]
     },
     "execution_count": 24,
     "metadata": {},
     "output_type": "execute_result"
    }
   ],
   "source": [
    "word_count = pd.Series(' '.join(train_df['Message']).split()).value_counts()\n",
    "word_count.sample(10)\n",
    "word_count"
   ]
  },
  {
   "cell_type": "markdown",
   "id": "51750308",
   "metadata": {},
   "source": [
    "# TFIDF "
   ]
  },
  {
   "cell_type": "code",
   "execution_count": 26,
   "id": "5f10f6cf",
   "metadata": {},
   "outputs": [
    {
     "name": "stdout",
     "output_type": "stream",
     "text": [
      "[[0. 0. 0. ... 0. 0. 0.]\n",
      " [0. 0. 0. ... 0. 0. 0.]\n",
      " [0. 0. 0. ... 0. 0. 0.]\n",
      " ...\n",
      " [0. 0. 0. ... 0. 0. 0.]\n",
      " [0. 0. 0. ... 0. 0. 0.]\n",
      " [0. 0. 0. ... 0. 0. 0.]]\n"
     ]
    }
   ],
   "source": [
    "from sklearn.feature_extraction.text import TfidfVectorizer\n",
    "tfidf = TfidfVectorizer(sublinear_tf=True, min_df=5, norm='l2', encoding='latin-1', ngram_range=(1, 2), stop_words='english', lowercase = True)\n",
    "# With this method we will split our text into one and two words combination. \n",
    "# Depending upon their usage and importance they will be assigned a value.  \n",
    "Message = tfidf.fit_transform(train_df['Message']).toarray()\n",
    "ids = train_df['ids']\n",
    "print(Message)"
   ]
  },
  {
   "cell_type": "markdown",
   "id": "3c7b0147",
   "metadata": {},
   "source": [
    "# Chi Square "
   ]
  },
  {
   "cell_type": "code",
   "execution_count": 27,
   "id": "3f6d3495",
   "metadata": {},
   "outputs": [
    {
     "data": {
      "text/plain": [
       "array([[0., 0., 0., ..., 0., 0., 0.],\n",
       "       [0., 0., 0., ..., 0., 0., 0.],\n",
       "       [0., 0., 0., ..., 0., 0., 0.],\n",
       "       ...,\n",
       "       [0., 0., 0., ..., 0., 0., 0.],\n",
       "       [0., 0., 0., ..., 0., 0., 0.],\n",
       "       [0., 0., 0., ..., 0., 0., 0.]])"
      ]
     },
     "execution_count": 27,
     "metadata": {},
     "output_type": "execute_result"
    }
   ],
   "source": [
    "from sklearn.feature_selection import SelectKBest \n",
    "from sklearn.feature_selection import chi2\n",
    "kbest = SelectKBest(score_func = chi2, k = 500 ) # Here using the chi-square test, we will determine which top 500 features will be retained. \n",
    "best_ham = kbest.fit_transform(Message, ids)\n",
    "best_ham"
   ]
  },
  {
   "cell_type": "code",
   "execution_count": 28,
   "id": "38432fdb",
   "metadata": {},
   "outputs": [],
   "source": [
    "X_train, X_test, Y_train, Y_test = train_test_split(best_ham,ids, test_size = 0.3, random_state = 60,shuffle=True)"
   ]
  },
  {
   "cell_type": "code",
   "execution_count": 33,
   "id": "03788dde",
   "metadata": {},
   "outputs": [
    {
     "name": "stdout",
     "output_type": "stream",
     "text": [
      "              precision    recall  f1-score   support\n",
      "\n",
      "           0       0.92      1.00      0.96      1155\n",
      "           1       1.00      0.42      0.59       183\n",
      "\n",
      "    accuracy                           0.92      1338\n",
      "   macro avg       0.96      0.71      0.77      1338\n",
      "weighted avg       0.93      0.92      0.91      1338\n",
      "\n"
     ]
    }
   ],
   "source": [
    "#Now we will first test MultinomialNB model without cross validation.\n",
    "from sklearn.naive_bayes import MultinomialNB   \n",
    "from sklearn.metrics import confusion_matrix\n",
    "multi = MultinomialNB()\n",
    "multi.fit(X_train, Y_train) # fit method allows us to fit our data into the model \n",
    "Y_pred = multi.predict(X_test) # using predict() we will predict the dependent values for the corresponding independent variables.\n",
    "from sklearn.metrics import classification_report\n",
    "print(classification_report(Y_test,Y_pred))"
   ]
  },
  {
   "cell_type": "markdown",
   "id": "c0ca2fb3",
   "metadata": {},
   "source": [
    "Now we will use the same model but with k fold cross validation "
   ]
  },
  {
   "cell_type": "code",
   "execution_count": 43,
   "id": "b1ce20c2",
   "metadata": {},
   "outputs": [
    {
     "data": {
      "text/plain": [
       "(0.9051034710198698, 0.010608008470652248)"
      ]
     },
     "execution_count": 43,
     "metadata": {},
     "output_type": "execute_result"
    }
   ],
   "source": [
    "from sklearn.model_selection import cross_val_score\n",
    "multi.fit(X_train, Y_train)\n",
    "scores = cross_val_score(multi, X_train, Y_train, cv=10)\n",
    "scores \n",
    "scores.mean(), scores.std()"
   ]
  },
  {
   "cell_type": "code",
   "execution_count": null,
   "id": "15d31be6",
   "metadata": {},
   "outputs": [],
   "source": []
  }
 ],
 "metadata": {
  "kernelspec": {
   "display_name": "Python 3 (ipykernel)",
   "language": "python",
   "name": "python3"
  },
  "language_info": {
   "codemirror_mode": {
    "name": "ipython",
    "version": 3
   },
   "file_extension": ".py",
   "mimetype": "text/x-python",
   "name": "python",
   "nbconvert_exporter": "python",
   "pygments_lexer": "ipython3",
   "version": "3.9.7"
  }
 },
 "nbformat": 4,
 "nbformat_minor": 5
}
